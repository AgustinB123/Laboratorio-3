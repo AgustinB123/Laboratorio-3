{
 "cells": [
  {
   "cell_type": "markdown",
   "id": "1bb473c0",
   "metadata": {},
   "source": [
    "# <div style=\"background-color: #b74ff8ff; padding:10px; border-radius:10px; color: #ffffffff; font-weight: bold\"> Capítulo 5 – Trabajando con Outliers </div>\n",
    "\n",
    "<div style=\"background-color: #27c6e639; padding: 6px; border-radius: 6px;\"> \n",
    "\n",
    "Este capitulo resume y operacionaliza los conceptos clave sobre detección y tratamiento de outliers. Los objetivos principales de este notebook son:\n",
    "- Entender cuándo y cómo detectar outliers IQR, gaussiano (media + σ) y MAD.\n",
    "- Aplicar estrategias de tratamiento: eliminación (trim), recorte (capping) y winsorización.\n",
    "- Dejar un pipeline reproducible (con y sin outliers) para comparar impacto en métricas.\n",
    "\n",
    "</div>\n",
    "\n",
    "### ¿Que es un Outlier?\n",
    "Un Outlier es un dato que difiere de manera notoria de otros valores dentro de una variable. La aparición de uno o mas Outliers puede deberse a:\n",
    "- La variabilidad inherente de la propia característica\n",
    "- Errores experimentales\n",
    "- Imprecisiones en los procesos de recopilación de datos\n",
    "\n",
    "### ¿Todos los Outliers deben ser borrados?\n",
    "Hay tres tipos de outliers:\n",
    "- Outliers de error\n",
    "- Outliers interesantes\n",
    "- Outliers aleatorios\n",
    "\n",
    "Solo deben eliminarse los Outliers de error"
   ]
  },
  {
   "cell_type": "markdown",
   "id": "22d0dcbb",
   "metadata": {},
   "source": [
    "# <div style= \"color: #d85050ff; font-weight: bold\"> Datasets que vamos a usar </div>\n",
    "1. student_depression_dataset.csv\n",
    "\n",
    "### <div style=\"color: #d89332ff;\"> **1. Student Depression** </div>\n",
    "\n",
    "**Descripción del dataset:**\n",
    "Conjunto de 27901 registros y 18 variables que relevan aspectos demográficos, académicos/laborales y de hábitos en estudiantes, junto con un indicador binario de depresión.\n",
    "\n",
    "**Alcance y uso:**\n",
    "El dataset es apropiado para análisis exploratorio, modelos de clasificación, tratamiento de outliers, etc."
   ]
  },
  {
   "cell_type": "markdown",
   "id": "9551a913",
   "metadata": {},
   "source": [
    "# <div style=\"background-color: #57ffcfff; padding: 6px; border-radius: 6px\"> **Visualización + IQR** </div>\n",
    "\n",
    "- IQR = Q3 - Q1\n",
    "- Limites por defecto: **Q1- 1.5*IQR** y **Q3 + 1.5*IQR**\n",
    "- Es no paramétrico y suele comportarse bien en distribuciones asimétricas \n",
    "\n",
    "[Poner ejemplo]"
   ]
  },
  {
   "cell_type": "markdown",
   "id": "6c699d23",
   "metadata": {},
   "source": [
    "# <div style=\"background-color: #57ffcfff; padding: 6px; border-radius: 6px\"> **MAD (robusto)** </div>\n",
    "\n",
    "- MAD = b * median(|xi - median(X)|)\n",
    "- Normalmente **b = 1.4826**\n",
    "- Al utilizar la mediana, es mas robusta ante outliers\n",
    "\n",
    "[Poner ejemplo]"
   ]
  },
  {
   "cell_type": "markdown",
   "id": "e7a2de38",
   "metadata": {},
   "source": [
    "# <div style=\"background-color: #57ffcfff; padding: 6px; border-radius: 6px\"> **Tratamiento de outliers: eliminar vs recortar** </div>\n",
    "\n",
    "- **Eliminar (trim)**: útil cuando es error claro; comparar resultados con/sin outliers\n",
    "- **Recortar (cap/clip)**: mover valores fuera de los límites a los propios límites para no perder filas\n",
    "\n",
    "[Poner ejemplos]"
   ]
  },
  {
   "cell_type": "markdown",
   "id": "8f6ea904",
   "metadata": {},
   "source": [
    "# <div style=\"background-color: #57ffcfff; padding: 6px; border-radius: 6px\"> **Winsorización** </div>\n",
    "\n",
    "La winsorización reemplaza los valores atípicos por el valor de la observación más cercana dentro de un umbral aceptable. Se sustituye la misma cantidad de outliers en ambos extermos de la distribución, lo que convierte al procedimiento en simétrico.\n",
    "\n",
    "[Poner ejemplo]"
   ]
  }
 ],
 "metadata": {
  "kernelspec": {
   "display_name": "Python 3 (ipykernel)",
   "language": "python",
   "name": "python3"
  },
  "language_info": {
   "codemirror_mode": {
    "name": "ipython",
    "version": 3
   },
   "file_extension": ".py",
   "mimetype": "text/x-python",
   "name": "python",
   "nbconvert_exporter": "python",
   "pygments_lexer": "ipython3",
   "version": "3.13.7"
  }
 },
 "nbformat": 4,
 "nbformat_minor": 5
}
