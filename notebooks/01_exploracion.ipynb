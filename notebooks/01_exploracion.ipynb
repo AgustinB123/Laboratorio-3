{
 "cells": [
  {
   "cell_type": "code",
   "execution_count": null,
   "id": "411a8b72",
   "metadata": {
    "vscode": {
     "languageId": "plaintext"
    }
   },
   "outputs": [],
   "source": [
    "from dotenv import load_dotenv\n",
    "import os\n",
    "\n",
    "load_dotenv()\n",
    "data_path = os.getenv(\"DATA_PATH\")\n",
    "print(\"Usando dataset:\", data_path)\n",
    "\n",
    "import pandas as pd\n",
    "df = pd.read_csv(data_path)\n",
    "df.head()"
   ]
  }
 ],
 "metadata": {
  "language_info": {
   "name": "python"
  }
 },
 "nbformat": 4,
 "nbformat_minor": 5
}
