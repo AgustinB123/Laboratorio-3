{
 "cells": [
  {
   "cell_type": "markdown",
   "id": "afea64c2",
   "metadata": {},
   "source": [
    "# Guía para crear un entorno y ejecutar Jupyter Notebook en el navegador\n",
    "Esta guía te ayudará a configurar un entorno virtual y ejecutar Jupyter Notebook desde Visual Studio Code para trabajar en ciencia de datos."
   ]
  },
  {
   "cell_type": "markdown",
   "id": "2cb2e922",
   "metadata": {},
   "source": [
    "## 1. Instalar y Configurar el Entorno Virtual\n",
    "Usa el terminal integrado de Visual Studio Code para crear un entorno virtual con:\n",
    "\n",
    "```powershell\n",
    "python -m venv venv\n",
    "```\n",
    "\n",
    "Activa el entorno virtual:\n",
    "- En Windows PowerShell:\n",
    "  ```powershell\n",
    "  .\\venv\\Scripts\\Activate.ps1\n",
    "  ```\n",
    "- En CMD:\n",
    "  ```cmd\n",
    "  .\\venv\\Scripts\\activate.bat\n",
    "  ```\n",
    "- En Mac/Linux:\n",
    "  ```bash\n",
    "  source venv/bin/activate\n",
    "  ```"
   ]
  },
  {
   "cell_type": "markdown",
   "id": "e3bc33d9",
   "metadata": {},
   "source": [
    "## 2. Instalar Jupyter Notebook\n",
    "Instala Jupyter Notebook en el entorno virtual usando el siguiente comando en el terminal:\n",
    "\n",
    "```powershell\n",
    "pip install notebook\n",
    "```"
   ]
  },
  {
   "cell_type": "markdown",
   "id": "adb83687",
   "metadata": {},
   "source": [
    "## 3. Iniciar Jupyter Notebook en el Navegador\n",
    "Ejecuta el siguiente comando en el terminal para abrir la interfaz de Jupyter en tu navegador predeterminado:\n",
    "\n",
    "```powershell\n",
    "jupyter notebook\n",
    "```"
   ]
  },
  {
   "cell_type": "markdown",
   "id": "4f6867d6",
   "metadata": {},
   "source": [
    "## 4. Crear y Guardar un Notebook de Ejemplo\n",
    "En la interfaz de Jupyter, crea un nuevo notebook, escribe código Python de ejemplo y guarda el archivo `.ipynb`.\n",
    "\n",
    "Ejemplo de código Python:\n",
    "```python\n",
    "print(\"¡Hola, Jupyter!\")\n",
    "```"
   ]
  }
 ],
 "metadata": {
  "language_info": {
   "name": "python"
  }
 },
 "nbformat": 4,
 "nbformat_minor": 5
}
