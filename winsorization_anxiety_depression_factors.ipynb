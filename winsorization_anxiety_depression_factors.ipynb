{
 "cells": [
  {
   "cell_type": "markdown",
   "id": "a63287be",
   "metadata": {},
   "source": [
    "# Winsorization on *Anxiety and Depression Mental Health Factors* (Kaggle)\n",
    "\n",
    "**Objective.** Following the Chapter 5 (Handling Outliers) recipe **Applying Winsorization**, \n",
    "we cap extreme values to reduce their impact **without dropping rows**."
   ]
  },
  {
   "cell_type": "code",
   "execution_count": 10,
   "id": "322af600",
   "metadata": {},
   "outputs": [],
   "source": [
    "import pandas as pd\n",
    "import numpy as np\n",
    "import matplotlib.pyplot as plt\n",
    "\n",
    "plt.rcParams['figure.figsize'] = (7,4)\n",
    "plt.rcParams['axes.grid'] = True\n",
    "pd.set_option(\"display.max_columns\", 50)"
   ]
  },
  {
   "cell_type": "markdown",
   "id": "62f6fcdd",
   "metadata": {},
   "source": [
    "## 1. Load dataset"
   ]
  },
  {
   "cell_type": "code",
   "execution_count": 11,
   "id": "bb6fd21f",
   "metadata": {},
   "outputs": [
    {
     "name": "stdout",
     "output_type": "stream",
     "text": [
      "(1200, 21)\n"
     ]
    },
    {
     "data": {
      "text/html": [
       "<div>\n",
       "<style scoped>\n",
       "    .dataframe tbody tr th:only-of-type {\n",
       "        vertical-align: middle;\n",
       "    }\n",
       "\n",
       "    .dataframe tbody tr th {\n",
       "        vertical-align: top;\n",
       "    }\n",
       "\n",
       "    .dataframe thead th {\n",
       "        text-align: right;\n",
       "    }\n",
       "</style>\n",
       "<table border=\"1\" class=\"dataframe\">\n",
       "  <thead>\n",
       "    <tr style=\"text-align: right;\">\n",
       "      <th></th>\n",
       "      <th>Age</th>\n",
       "      <th>Gender</th>\n",
       "      <th>Education_Level</th>\n",
       "      <th>Employment_Status</th>\n",
       "      <th>Sleep_Hours</th>\n",
       "      <th>Physical_Activity_Hrs</th>\n",
       "      <th>Social_Support_Score</th>\n",
       "      <th>Anxiety_Score</th>\n",
       "      <th>Depression_Score</th>\n",
       "      <th>Stress_Level</th>\n",
       "      <th>Family_History_Mental_Illness</th>\n",
       "      <th>Chronic_Illnesses</th>\n",
       "      <th>Medication_Use</th>\n",
       "      <th>Therapy</th>\n",
       "      <th>Meditation</th>\n",
       "      <th>Substance_Use</th>\n",
       "      <th>Financial_Stress</th>\n",
       "      <th>Work_Stress</th>\n",
       "      <th>Self_Esteem_Score</th>\n",
       "      <th>Life_Satisfaction_Score</th>\n",
       "      <th>Loneliness_Score</th>\n",
       "    </tr>\n",
       "  </thead>\n",
       "  <tbody>\n",
       "    <tr>\n",
       "      <th>0</th>\n",
       "      <td>56</td>\n",
       "      <td>Male</td>\n",
       "      <td>Bachelor's</td>\n",
       "      <td>Unemployed</td>\n",
       "      <td>6.0</td>\n",
       "      <td>0.4</td>\n",
       "      <td>3</td>\n",
       "      <td>4</td>\n",
       "      <td>2</td>\n",
       "      <td>9</td>\n",
       "      <td>0</td>\n",
       "      <td>0</td>\n",
       "      <td>NaN</td>\n",
       "      <td>0</td>\n",
       "      <td>1</td>\n",
       "      <td>NaN</td>\n",
       "      <td>4</td>\n",
       "      <td>3</td>\n",
       "      <td>7</td>\n",
       "      <td>5</td>\n",
       "      <td>1</td>\n",
       "    </tr>\n",
       "    <tr>\n",
       "      <th>1</th>\n",
       "      <td>69</td>\n",
       "      <td>Female</td>\n",
       "      <td>Bachelor's</td>\n",
       "      <td>Retired</td>\n",
       "      <td>8.8</td>\n",
       "      <td>2.8</td>\n",
       "      <td>6</td>\n",
       "      <td>18</td>\n",
       "      <td>7</td>\n",
       "      <td>6</td>\n",
       "      <td>0</td>\n",
       "      <td>0</td>\n",
       "      <td>NaN</td>\n",
       "      <td>1</td>\n",
       "      <td>0</td>\n",
       "      <td>NaN</td>\n",
       "      <td>1</td>\n",
       "      <td>4</td>\n",
       "      <td>7</td>\n",
       "      <td>4</td>\n",
       "      <td>6</td>\n",
       "    </tr>\n",
       "    <tr>\n",
       "      <th>2</th>\n",
       "      <td>46</td>\n",
       "      <td>Female</td>\n",
       "      <td>Master's</td>\n",
       "      <td>Employed</td>\n",
       "      <td>5.3</td>\n",
       "      <td>1.6</td>\n",
       "      <td>5</td>\n",
       "      <td>5</td>\n",
       "      <td>13</td>\n",
       "      <td>8</td>\n",
       "      <td>0</td>\n",
       "      <td>0</td>\n",
       "      <td>NaN</td>\n",
       "      <td>0</td>\n",
       "      <td>1</td>\n",
       "      <td>NaN</td>\n",
       "      <td>8</td>\n",
       "      <td>7</td>\n",
       "      <td>8</td>\n",
       "      <td>1</td>\n",
       "      <td>1</td>\n",
       "    </tr>\n",
       "    <tr>\n",
       "      <th>3</th>\n",
       "      <td>32</td>\n",
       "      <td>Female</td>\n",
       "      <td>High School</td>\n",
       "      <td>Unemployed</td>\n",
       "      <td>8.8</td>\n",
       "      <td>0.5</td>\n",
       "      <td>4</td>\n",
       "      <td>6</td>\n",
       "      <td>3</td>\n",
       "      <td>4</td>\n",
       "      <td>1</td>\n",
       "      <td>1</td>\n",
       "      <td>NaN</td>\n",
       "      <td>0</td>\n",
       "      <td>0</td>\n",
       "      <td>NaN</td>\n",
       "      <td>7</td>\n",
       "      <td>4</td>\n",
       "      <td>8</td>\n",
       "      <td>4</td>\n",
       "      <td>4</td>\n",
       "    </tr>\n",
       "    <tr>\n",
       "      <th>4</th>\n",
       "      <td>60</td>\n",
       "      <td>Female</td>\n",
       "      <td>Bachelor's</td>\n",
       "      <td>Retired</td>\n",
       "      <td>7.2</td>\n",
       "      <td>0.7</td>\n",
       "      <td>2</td>\n",
       "      <td>7</td>\n",
       "      <td>15</td>\n",
       "      <td>3</td>\n",
       "      <td>0</td>\n",
       "      <td>0</td>\n",
       "      <td>NaN</td>\n",
       "      <td>1</td>\n",
       "      <td>1</td>\n",
       "      <td>Frequent</td>\n",
       "      <td>8</td>\n",
       "      <td>9</td>\n",
       "      <td>5</td>\n",
       "      <td>7</td>\n",
       "      <td>7</td>\n",
       "    </tr>\n",
       "  </tbody>\n",
       "</table>\n",
       "</div>"
      ],
      "text/plain": [
       "   Age  Gender Education_Level Employment_Status  Sleep_Hours  \\\n",
       "0   56    Male      Bachelor's        Unemployed          6.0   \n",
       "1   69  Female      Bachelor's           Retired          8.8   \n",
       "2   46  Female        Master's          Employed          5.3   \n",
       "3   32  Female     High School        Unemployed          8.8   \n",
       "4   60  Female      Bachelor's           Retired          7.2   \n",
       "\n",
       "   Physical_Activity_Hrs  Social_Support_Score  Anxiety_Score  \\\n",
       "0                    0.4                     3              4   \n",
       "1                    2.8                     6             18   \n",
       "2                    1.6                     5              5   \n",
       "3                    0.5                     4              6   \n",
       "4                    0.7                     2              7   \n",
       "\n",
       "   Depression_Score  Stress_Level  Family_History_Mental_Illness  \\\n",
       "0                 2             9                              0   \n",
       "1                 7             6                              0   \n",
       "2                13             8                              0   \n",
       "3                 3             4                              1   \n",
       "4                15             3                              0   \n",
       "\n",
       "   Chronic_Illnesses Medication_Use  Therapy  Meditation Substance_Use  \\\n",
       "0                  0            NaN        0           1           NaN   \n",
       "1                  0            NaN        1           0           NaN   \n",
       "2                  0            NaN        0           1           NaN   \n",
       "3                  1            NaN        0           0           NaN   \n",
       "4                  0            NaN        1           1      Frequent   \n",
       "\n",
       "   Financial_Stress  Work_Stress  Self_Esteem_Score  Life_Satisfaction_Score  \\\n",
       "0                 4            3                  7                        5   \n",
       "1                 1            4                  7                        4   \n",
       "2                 8            7                  8                        1   \n",
       "3                 7            4                  8                        4   \n",
       "4                 8            9                  5                        7   \n",
       "\n",
       "   Loneliness_Score  \n",
       "0                 1  \n",
       "1                 6  \n",
       "2                 1  \n",
       "3                 4  \n",
       "4                 7  "
      ]
     },
     "execution_count": 11,
     "metadata": {},
     "output_type": "execute_result"
    }
   ],
   "source": [
    "DATA_PATH = \"anxiety_depression_data.csv\"\n",
    "df = pd.read_csv(DATA_PATH)\n",
    "print(df.shape)\n",
    "df.head()"
   ]
  },
  {
   "cell_type": "markdown",
   "id": "83a90015",
   "metadata": {},
   "source": [
    "## 2. Quick exploration"
   ]
  },
  {
   "cell_type": "code",
   "execution_count": 12,
   "id": "7cc6985e",
   "metadata": {},
   "outputs": [
    {
     "data": {
      "text/html": [
       "<div>\n",
       "<style scoped>\n",
       "    .dataframe tbody tr th:only-of-type {\n",
       "        vertical-align: middle;\n",
       "    }\n",
       "\n",
       "    .dataframe tbody tr th {\n",
       "        vertical-align: top;\n",
       "    }\n",
       "\n",
       "    .dataframe thead th {\n",
       "        text-align: right;\n",
       "    }\n",
       "</style>\n",
       "<table border=\"1\" class=\"dataframe\">\n",
       "  <thead>\n",
       "    <tr style=\"text-align: right;\">\n",
       "      <th></th>\n",
       "      <th>Age</th>\n",
       "      <th>Gender</th>\n",
       "      <th>Education_Level</th>\n",
       "      <th>Employment_Status</th>\n",
       "      <th>Sleep_Hours</th>\n",
       "      <th>Physical_Activity_Hrs</th>\n",
       "      <th>Social_Support_Score</th>\n",
       "      <th>Anxiety_Score</th>\n",
       "      <th>Depression_Score</th>\n",
       "      <th>Stress_Level</th>\n",
       "      <th>Family_History_Mental_Illness</th>\n",
       "      <th>Chronic_Illnesses</th>\n",
       "      <th>Medication_Use</th>\n",
       "      <th>Therapy</th>\n",
       "      <th>Meditation</th>\n",
       "      <th>Substance_Use</th>\n",
       "      <th>Financial_Stress</th>\n",
       "      <th>Work_Stress</th>\n",
       "      <th>Self_Esteem_Score</th>\n",
       "      <th>Life_Satisfaction_Score</th>\n",
       "      <th>Loneliness_Score</th>\n",
       "    </tr>\n",
       "  </thead>\n",
       "  <tbody>\n",
       "    <tr>\n",
       "      <th>count</th>\n",
       "      <td>1200.000000</td>\n",
       "      <td>1200</td>\n",
       "      <td>1200</td>\n",
       "      <td>1200</td>\n",
       "      <td>1200.00000</td>\n",
       "      <td>1200.000000</td>\n",
       "      <td>1200.000000</td>\n",
       "      <td>1200.000000</td>\n",
       "      <td>1200.000000</td>\n",
       "      <td>1200.000000</td>\n",
       "      <td>1200.000000</td>\n",
       "      <td>1200.00000</td>\n",
       "      <td>453</td>\n",
       "      <td>1200.000000</td>\n",
       "      <td>1200.000000</td>\n",
       "      <td>366</td>\n",
       "      <td>1200.000000</td>\n",
       "      <td>1200.000000</td>\n",
       "      <td>1200.000000</td>\n",
       "      <td>1200.00000</td>\n",
       "      <td>1200.000000</td>\n",
       "    </tr>\n",
       "    <tr>\n",
       "      <th>unique</th>\n",
       "      <td>NaN</td>\n",
       "      <td>4</td>\n",
       "      <td>5</td>\n",
       "      <td>4</td>\n",
       "      <td>NaN</td>\n",
       "      <td>NaN</td>\n",
       "      <td>NaN</td>\n",
       "      <td>NaN</td>\n",
       "      <td>NaN</td>\n",
       "      <td>NaN</td>\n",
       "      <td>NaN</td>\n",
       "      <td>NaN</td>\n",
       "      <td>2</td>\n",
       "      <td>NaN</td>\n",
       "      <td>NaN</td>\n",
       "      <td>2</td>\n",
       "      <td>NaN</td>\n",
       "      <td>NaN</td>\n",
       "      <td>NaN</td>\n",
       "      <td>NaN</td>\n",
       "      <td>NaN</td>\n",
       "    </tr>\n",
       "    <tr>\n",
       "      <th>top</th>\n",
       "      <td>NaN</td>\n",
       "      <td>Female</td>\n",
       "      <td>PhD</td>\n",
       "      <td>Employed</td>\n",
       "      <td>NaN</td>\n",
       "      <td>NaN</td>\n",
       "      <td>NaN</td>\n",
       "      <td>NaN</td>\n",
       "      <td>NaN</td>\n",
       "      <td>NaN</td>\n",
       "      <td>NaN</td>\n",
       "      <td>NaN</td>\n",
       "      <td>Regular</td>\n",
       "      <td>NaN</td>\n",
       "      <td>NaN</td>\n",
       "      <td>Occasional</td>\n",
       "      <td>NaN</td>\n",
       "      <td>NaN</td>\n",
       "      <td>NaN</td>\n",
       "      <td>NaN</td>\n",
       "      <td>NaN</td>\n",
       "    </tr>\n",
       "    <tr>\n",
       "      <th>freq</th>\n",
       "      <td>NaN</td>\n",
       "      <td>569</td>\n",
       "      <td>262</td>\n",
       "      <td>320</td>\n",
       "      <td>NaN</td>\n",
       "      <td>NaN</td>\n",
       "      <td>NaN</td>\n",
       "      <td>NaN</td>\n",
       "      <td>NaN</td>\n",
       "      <td>NaN</td>\n",
       "      <td>NaN</td>\n",
       "      <td>NaN</td>\n",
       "      <td>238</td>\n",
       "      <td>NaN</td>\n",
       "      <td>NaN</td>\n",
       "      <td>242</td>\n",
       "      <td>NaN</td>\n",
       "      <td>NaN</td>\n",
       "      <td>NaN</td>\n",
       "      <td>NaN</td>\n",
       "      <td>NaN</td>\n",
       "    </tr>\n",
       "    <tr>\n",
       "      <th>mean</th>\n",
       "      <td>46.317500</td>\n",
       "      <td>NaN</td>\n",
       "      <td>NaN</td>\n",
       "      <td>NaN</td>\n",
       "      <td>6.46900</td>\n",
       "      <td>2.005750</td>\n",
       "      <td>5.055000</td>\n",
       "      <td>10.470000</td>\n",
       "      <td>10.674167</td>\n",
       "      <td>5.000833</td>\n",
       "      <td>0.318333</td>\n",
       "      <td>0.26750</td>\n",
       "      <td>NaN</td>\n",
       "      <td>0.210000</td>\n",
       "      <td>0.399167</td>\n",
       "      <td>NaN</td>\n",
       "      <td>4.992500</td>\n",
       "      <td>4.889167</td>\n",
       "      <td>5.062500</td>\n",
       "      <td>5.12000</td>\n",
       "      <td>4.959167</td>\n",
       "    </tr>\n",
       "    <tr>\n",
       "      <th>std</th>\n",
       "      <td>16.451157</td>\n",
       "      <td>NaN</td>\n",
       "      <td>NaN</td>\n",
       "      <td>NaN</td>\n",
       "      <td>1.52955</td>\n",
       "      <td>2.037818</td>\n",
       "      <td>2.652893</td>\n",
       "      <td>5.911138</td>\n",
       "      <td>5.632889</td>\n",
       "      <td>2.538281</td>\n",
       "      <td>0.466024</td>\n",
       "      <td>0.44284</td>\n",
       "      <td>NaN</td>\n",
       "      <td>0.407478</td>\n",
       "      <td>0.489931</td>\n",
       "      <td>NaN</td>\n",
       "      <td>2.590953</td>\n",
       "      <td>2.547016</td>\n",
       "      <td>2.531587</td>\n",
       "      <td>2.56991</td>\n",
       "      <td>2.566383</td>\n",
       "    </tr>\n",
       "    <tr>\n",
       "      <th>min</th>\n",
       "      <td>18.000000</td>\n",
       "      <td>NaN</td>\n",
       "      <td>NaN</td>\n",
       "      <td>NaN</td>\n",
       "      <td>2.00000</td>\n",
       "      <td>0.000000</td>\n",
       "      <td>1.000000</td>\n",
       "      <td>1.000000</td>\n",
       "      <td>1.000000</td>\n",
       "      <td>1.000000</td>\n",
       "      <td>0.000000</td>\n",
       "      <td>0.00000</td>\n",
       "      <td>NaN</td>\n",
       "      <td>0.000000</td>\n",
       "      <td>0.000000</td>\n",
       "      <td>NaN</td>\n",
       "      <td>1.000000</td>\n",
       "      <td>1.000000</td>\n",
       "      <td>1.000000</td>\n",
       "      <td>1.00000</td>\n",
       "      <td>1.000000</td>\n",
       "    </tr>\n",
       "    <tr>\n",
       "      <th>25%</th>\n",
       "      <td>33.000000</td>\n",
       "      <td>NaN</td>\n",
       "      <td>NaN</td>\n",
       "      <td>NaN</td>\n",
       "      <td>5.40000</td>\n",
       "      <td>0.600000</td>\n",
       "      <td>3.000000</td>\n",
       "      <td>5.000000</td>\n",
       "      <td>6.000000</td>\n",
       "      <td>3.000000</td>\n",
       "      <td>0.000000</td>\n",
       "      <td>0.00000</td>\n",
       "      <td>NaN</td>\n",
       "      <td>0.000000</td>\n",
       "      <td>0.000000</td>\n",
       "      <td>NaN</td>\n",
       "      <td>3.000000</td>\n",
       "      <td>3.000000</td>\n",
       "      <td>3.000000</td>\n",
       "      <td>3.00000</td>\n",
       "      <td>3.000000</td>\n",
       "    </tr>\n",
       "    <tr>\n",
       "      <th>50%</th>\n",
       "      <td>46.000000</td>\n",
       "      <td>NaN</td>\n",
       "      <td>NaN</td>\n",
       "      <td>NaN</td>\n",
       "      <td>6.40000</td>\n",
       "      <td>1.400000</td>\n",
       "      <td>5.000000</td>\n",
       "      <td>10.500000</td>\n",
       "      <td>11.000000</td>\n",
       "      <td>5.000000</td>\n",
       "      <td>0.000000</td>\n",
       "      <td>0.00000</td>\n",
       "      <td>NaN</td>\n",
       "      <td>0.000000</td>\n",
       "      <td>0.000000</td>\n",
       "      <td>NaN</td>\n",
       "      <td>5.000000</td>\n",
       "      <td>5.000000</td>\n",
       "      <td>5.000000</td>\n",
       "      <td>5.00000</td>\n",
       "      <td>5.000000</td>\n",
       "    </tr>\n",
       "    <tr>\n",
       "      <th>75%</th>\n",
       "      <td>61.000000</td>\n",
       "      <td>NaN</td>\n",
       "      <td>NaN</td>\n",
       "      <td>NaN</td>\n",
       "      <td>7.50000</td>\n",
       "      <td>2.700000</td>\n",
       "      <td>7.000000</td>\n",
       "      <td>16.000000</td>\n",
       "      <td>15.000000</td>\n",
       "      <td>7.000000</td>\n",
       "      <td>1.000000</td>\n",
       "      <td>1.00000</td>\n",
       "      <td>NaN</td>\n",
       "      <td>0.000000</td>\n",
       "      <td>1.000000</td>\n",
       "      <td>NaN</td>\n",
       "      <td>7.000000</td>\n",
       "      <td>7.000000</td>\n",
       "      <td>7.000000</td>\n",
       "      <td>7.00000</td>\n",
       "      <td>7.000000</td>\n",
       "    </tr>\n",
       "    <tr>\n",
       "      <th>max</th>\n",
       "      <td>74.000000</td>\n",
       "      <td>NaN</td>\n",
       "      <td>NaN</td>\n",
       "      <td>NaN</td>\n",
       "      <td>12.40000</td>\n",
       "      <td>15.100000</td>\n",
       "      <td>9.000000</td>\n",
       "      <td>20.000000</td>\n",
       "      <td>20.000000</td>\n",
       "      <td>9.000000</td>\n",
       "      <td>1.000000</td>\n",
       "      <td>1.00000</td>\n",
       "      <td>NaN</td>\n",
       "      <td>1.000000</td>\n",
       "      <td>1.000000</td>\n",
       "      <td>NaN</td>\n",
       "      <td>9.000000</td>\n",
       "      <td>9.000000</td>\n",
       "      <td>9.000000</td>\n",
       "      <td>9.00000</td>\n",
       "      <td>9.000000</td>\n",
       "    </tr>\n",
       "  </tbody>\n",
       "</table>\n",
       "</div>"
      ],
      "text/plain": [
       "                Age  Gender Education_Level Employment_Status  Sleep_Hours  \\\n",
       "count   1200.000000    1200            1200              1200   1200.00000   \n",
       "unique          NaN       4               5                 4          NaN   \n",
       "top             NaN  Female             PhD          Employed          NaN   \n",
       "freq            NaN     569             262               320          NaN   \n",
       "mean      46.317500     NaN             NaN               NaN      6.46900   \n",
       "std       16.451157     NaN             NaN               NaN      1.52955   \n",
       "min       18.000000     NaN             NaN               NaN      2.00000   \n",
       "25%       33.000000     NaN             NaN               NaN      5.40000   \n",
       "50%       46.000000     NaN             NaN               NaN      6.40000   \n",
       "75%       61.000000     NaN             NaN               NaN      7.50000   \n",
       "max       74.000000     NaN             NaN               NaN     12.40000   \n",
       "\n",
       "        Physical_Activity_Hrs  Social_Support_Score  Anxiety_Score  \\\n",
       "count             1200.000000           1200.000000    1200.000000   \n",
       "unique                    NaN                   NaN            NaN   \n",
       "top                       NaN                   NaN            NaN   \n",
       "freq                      NaN                   NaN            NaN   \n",
       "mean                 2.005750              5.055000      10.470000   \n",
       "std                  2.037818              2.652893       5.911138   \n",
       "min                  0.000000              1.000000       1.000000   \n",
       "25%                  0.600000              3.000000       5.000000   \n",
       "50%                  1.400000              5.000000      10.500000   \n",
       "75%                  2.700000              7.000000      16.000000   \n",
       "max                 15.100000              9.000000      20.000000   \n",
       "\n",
       "        Depression_Score  Stress_Level  Family_History_Mental_Illness  \\\n",
       "count        1200.000000   1200.000000                    1200.000000   \n",
       "unique               NaN           NaN                            NaN   \n",
       "top                  NaN           NaN                            NaN   \n",
       "freq                 NaN           NaN                            NaN   \n",
       "mean           10.674167      5.000833                       0.318333   \n",
       "std             5.632889      2.538281                       0.466024   \n",
       "min             1.000000      1.000000                       0.000000   \n",
       "25%             6.000000      3.000000                       0.000000   \n",
       "50%            11.000000      5.000000                       0.000000   \n",
       "75%            15.000000      7.000000                       1.000000   \n",
       "max            20.000000      9.000000                       1.000000   \n",
       "\n",
       "        Chronic_Illnesses Medication_Use      Therapy   Meditation  \\\n",
       "count          1200.00000            453  1200.000000  1200.000000   \n",
       "unique                NaN              2          NaN          NaN   \n",
       "top                   NaN        Regular          NaN          NaN   \n",
       "freq                  NaN            238          NaN          NaN   \n",
       "mean              0.26750            NaN     0.210000     0.399167   \n",
       "std               0.44284            NaN     0.407478     0.489931   \n",
       "min               0.00000            NaN     0.000000     0.000000   \n",
       "25%               0.00000            NaN     0.000000     0.000000   \n",
       "50%               0.00000            NaN     0.000000     0.000000   \n",
       "75%               1.00000            NaN     0.000000     1.000000   \n",
       "max               1.00000            NaN     1.000000     1.000000   \n",
       "\n",
       "       Substance_Use  Financial_Stress  Work_Stress  Self_Esteem_Score  \\\n",
       "count            366       1200.000000  1200.000000        1200.000000   \n",
       "unique             2               NaN          NaN                NaN   \n",
       "top       Occasional               NaN          NaN                NaN   \n",
       "freq             242               NaN          NaN                NaN   \n",
       "mean             NaN          4.992500     4.889167           5.062500   \n",
       "std              NaN          2.590953     2.547016           2.531587   \n",
       "min              NaN          1.000000     1.000000           1.000000   \n",
       "25%              NaN          3.000000     3.000000           3.000000   \n",
       "50%              NaN          5.000000     5.000000           5.000000   \n",
       "75%              NaN          7.000000     7.000000           7.000000   \n",
       "max              NaN          9.000000     9.000000           9.000000   \n",
       "\n",
       "        Life_Satisfaction_Score  Loneliness_Score  \n",
       "count                1200.00000       1200.000000  \n",
       "unique                      NaN               NaN  \n",
       "top                         NaN               NaN  \n",
       "freq                        NaN               NaN  \n",
       "mean                    5.12000          4.959167  \n",
       "std                     2.56991          2.566383  \n",
       "min                     1.00000          1.000000  \n",
       "25%                     3.00000          3.000000  \n",
       "50%                     5.00000          5.000000  \n",
       "75%                     7.00000          7.000000  \n",
       "max                     9.00000          9.000000  "
      ]
     },
     "metadata": {},
     "output_type": "display_data"
    },
    {
     "name": "stdout",
     "output_type": "stream",
     "text": [
      "\n",
      "Dtypes:\n",
      "Age                                int64\n",
      "Gender                            object\n",
      "Education_Level                   object\n",
      "Employment_Status                 object\n",
      "Sleep_Hours                      float64\n",
      "Physical_Activity_Hrs            float64\n",
      "Social_Support_Score               int64\n",
      "Anxiety_Score                      int64\n",
      "Depression_Score                   int64\n",
      "Stress_Level                       int64\n",
      "Family_History_Mental_Illness      int64\n",
      "Chronic_Illnesses                  int64\n",
      "Medication_Use                    object\n",
      "Therapy                            int64\n",
      "Meditation                         int64\n",
      "Substance_Use                     object\n",
      "Financial_Stress                   int64\n",
      "Work_Stress                        int64\n",
      "Self_Esteem_Score                  int64\n",
      "Life_Satisfaction_Score            int64\n",
      "Loneliness_Score                   int64\n",
      "dtype: object\n"
     ]
    }
   ],
   "source": [
    "display(df.describe(include='all'))\n",
    "print(\"\\nDtypes:\")\n",
    "print(df.dtypes)"
   ]
  },
  {
   "cell_type": "markdown",
   "id": "5b068026",
   "metadata": {},
   "source": [
    "## 3. Select candidate numeric variables for Winsorization"
   ]
  },
  {
   "cell_type": "code",
   "execution_count": 13,
   "id": "366f3fc7",
   "metadata": {},
   "outputs": [
    {
     "name": "stdout",
     "output_type": "stream",
     "text": [
      "Numeric columns: ['Age', 'Sleep_Hours', 'Physical_Activity_Hrs', 'Social_Support_Score', 'Anxiety_Score', 'Depression_Score', 'Stress_Level', 'Family_History_Mental_Illness', 'Chronic_Illnesses', 'Therapy', 'Meditation', 'Financial_Stress', 'Work_Stress', 'Self_Esteem_Score', 'Life_Satisfaction_Score', 'Loneliness_Score']\n",
      "Selected for winsorization: ['Anxiety_Score', 'Depression_Score', 'Stress_Level', 'Sleep_Hours', 'Social_Support_Score']\n"
     ]
    }
   ],
   "source": [
    "preferred = ['Anxiety_Score','Depression_Score','Stress_Level','Sleep_Hours','Social_Support_Score']\n",
    "numeric_cols = df.select_dtypes(include=[np.number]).columns.tolist()\n",
    "candidates = [c for c in preferred if c in numeric_cols]\n",
    "if len(candidates) < 3:\n",
    "    extras = [c for c in numeric_cols if c not in candidates and c.lower() not in ['id','student_id','index','code','label','target']]\n",
    "    candidates += extras[:max(0, 5 - len(candidates))]\n",
    "print(\"Numeric columns:\", numeric_cols)\n",
    "print(\"Selected for winsorization:\", candidates)"
   ]
  },
  {
   "cell_type": "markdown",
   "id": "8c1624ef",
   "metadata": {},
   "source": [
    "## 4. Winsorization (5th–95th percentiles)"
   ]
  },
  {
   "cell_type": "code",
   "execution_count": 14,
   "id": "febcb458",
   "metadata": {},
   "outputs": [
    {
     "name": "stdout",
     "output_type": "stream",
     "text": [
      "Lower quantiles:\n"
     ]
    },
    {
     "data": {
      "text/html": [
       "<div>\n",
       "<style scoped>\n",
       "    .dataframe tbody tr th:only-of-type {\n",
       "        vertical-align: middle;\n",
       "    }\n",
       "\n",
       "    .dataframe tbody tr th {\n",
       "        vertical-align: top;\n",
       "    }\n",
       "\n",
       "    .dataframe thead th {\n",
       "        text-align: right;\n",
       "    }\n",
       "</style>\n",
       "<table border=\"1\" class=\"dataframe\">\n",
       "  <thead>\n",
       "    <tr style=\"text-align: right;\">\n",
       "      <th></th>\n",
       "      <th>p5</th>\n",
       "    </tr>\n",
       "  </thead>\n",
       "  <tbody>\n",
       "    <tr>\n",
       "      <th>Anxiety_Score</th>\n",
       "      <td>1.000</td>\n",
       "    </tr>\n",
       "    <tr>\n",
       "      <th>Depression_Score</th>\n",
       "      <td>2.000</td>\n",
       "    </tr>\n",
       "    <tr>\n",
       "      <th>Stress_Level</th>\n",
       "      <td>1.000</td>\n",
       "    </tr>\n",
       "    <tr>\n",
       "      <th>Sleep_Hours</th>\n",
       "      <td>3.895</td>\n",
       "    </tr>\n",
       "    <tr>\n",
       "      <th>Social_Support_Score</th>\n",
       "      <td>1.000</td>\n",
       "    </tr>\n",
       "  </tbody>\n",
       "</table>\n",
       "</div>"
      ],
      "text/plain": [
       "                         p5\n",
       "Anxiety_Score         1.000\n",
       "Depression_Score      2.000\n",
       "Stress_Level          1.000\n",
       "Sleep_Hours           3.895\n",
       "Social_Support_Score  1.000"
      ]
     },
     "metadata": {},
     "output_type": "display_data"
    },
    {
     "name": "stdout",
     "output_type": "stream",
     "text": [
      "Upper quantiles:\n"
     ]
    },
    {
     "data": {
      "text/html": [
       "<div>\n",
       "<style scoped>\n",
       "    .dataframe tbody tr th:only-of-type {\n",
       "        vertical-align: middle;\n",
       "    }\n",
       "\n",
       "    .dataframe tbody tr th {\n",
       "        vertical-align: top;\n",
       "    }\n",
       "\n",
       "    .dataframe thead th {\n",
       "        text-align: right;\n",
       "    }\n",
       "</style>\n",
       "<table border=\"1\" class=\"dataframe\">\n",
       "  <thead>\n",
       "    <tr style=\"text-align: right;\">\n",
       "      <th></th>\n",
       "      <th>p95</th>\n",
       "    </tr>\n",
       "  </thead>\n",
       "  <tbody>\n",
       "    <tr>\n",
       "      <th>Anxiety_Score</th>\n",
       "      <td>19.0</td>\n",
       "    </tr>\n",
       "    <tr>\n",
       "      <th>Depression_Score</th>\n",
       "      <td>19.0</td>\n",
       "    </tr>\n",
       "    <tr>\n",
       "      <th>Stress_Level</th>\n",
       "      <td>9.0</td>\n",
       "    </tr>\n",
       "    <tr>\n",
       "      <th>Sleep_Hours</th>\n",
       "      <td>9.0</td>\n",
       "    </tr>\n",
       "    <tr>\n",
       "      <th>Social_Support_Score</th>\n",
       "      <td>9.0</td>\n",
       "    </tr>\n",
       "  </tbody>\n",
       "</table>\n",
       "</div>"
      ],
      "text/plain": [
       "                       p95\n",
       "Anxiety_Score         19.0\n",
       "Depression_Score      19.0\n",
       "Stress_Level           9.0\n",
       "Sleep_Hours            9.0\n",
       "Social_Support_Score   9.0"
      ]
     },
     "metadata": {},
     "output_type": "display_data"
    }
   ],
   "source": [
    "def winsorize_by_quantiles(df, cols, lower_q=0.05, upper_q=0.95):\n",
    "    df_out = df.copy()\n",
    "    q_low  = df_out[cols].quantile(lower_q)\n",
    "    q_high = df_out[cols].quantile(upper_q)\n",
    "    for c in cols:\n",
    "        df_out[c] = df_out[c].clip(lower=q_low[c], upper=q_high[c])\n",
    "    return df_out, q_low, q_high\n",
    "\n",
    "LOW_Q, HIGH_Q = 0.05, 0.95\n",
    "df_wins, q_low, q_high = winsorize_by_quantiles(df, candidates, LOW_Q, HIGH_Q)\n",
    "print(\"Lower quantiles:\"); display(q_low.to_frame(f\"p{int(LOW_Q*100)}\"))\n",
    "print(\"Upper quantiles:\"); display(q_high.to_frame(f\"p{int(HIGH_Q*100)}\"))"
   ]
  },
  {
   "cell_type": "code",
   "execution_count": 15,
   "id": "bbf5e374",
   "metadata": {},
   "outputs": [
    {
     "name": "stdout",
     "output_type": "stream",
     "text": [
      "Saved: anxiety_depression_data_winsorized.csv\n"
     ]
    }
   ],
   "source": [
    "OUT_CSV = \"anxiety_depression_data_winsorized.csv\"\n",
    "df_wins.to_csv(OUT_CSV, index=False)\n",
    "print(\"Saved:\", OUT_CSV)"
   ]
  },
  {
   "cell_type": "markdown",
   "id": "131ff2a2",
   "metadata": {},
   "source": [
    "## 5. BEFORE vs AFTER — Histograms"
   ]
  },
  {
   "cell_type": "code",
   "execution_count": 16,
   "id": "42a9c9fc",
   "metadata": {},
   "outputs": [
    {
     "data": {
      "image/png": "[encoded data removed]",
      "text/plain": [
       "<Figure size 504x288 with 1 Axes>"
      ]
     },
     "metadata": {
      "needs_background": "light"
     },
     "output_type": "display_data"
    },
    {
     "data": {
      "image/png": "[encoded data removed]",
      "text/plain": [
       "<Figure size 504x288 with 1 Axes>"
      ]
     },
     "metadata": {
      "needs_background": "light"
     },
     "output_type": "display_data"
    },
    {
     "data": {
      "image/png": "[encoded data removed]",
      "text/plain": [
       "<Figure size 504x288 with 1 Axes>"
      ]
     },
     "metadata": {
      "needs_background": "light"
     },
     "output_type": "display_data"
    },
    {
     "data": {
      "image/png": "[encoded data removed]",
      "text/plain": [
       "<Figure size 504x288 with 1 Axes>"
      ]
     },
     "metadata": {
      "needs_background": "light"
     },
     "output_type": "display_data"
    },
    {
     "data": {
      "image/png": "[encoded data removed]",
      "text/plain": [
       "<Figure size 504x288 with 1 Axes>"
      ]
     },
     "metadata": {
      "needs_background": "light"
     },
     "output_type": "display_data"
    },
    {
     "data": {
      "image/png": "[encoded data removed]",
      "text/plain": [
       "<Figure size 504x288 with 1 Axes>"
      ]
     },
     "metadata": {
      "needs_background": "light"
     },
     "output_type": "display_data"
    },
    {
     "data": {
      "image/png": "[encoded data removed]",
      "text/plain": [
       "<Figure size 504x288 with 1 Axes>"
      ]
     },
     "metadata": {
      "needs_background": "light"
     },
     "output_type": "display_data"
    },
    {
     "data": {
      "image/png": "[encoded data removed]",
      "text/plain": [
       "<Figure size 504x288 with 1 Axes>"
      ]
     },
     "metadata": {
      "needs_background": "light"
     },
     "output_type": "display_data"
    },
    {
     "data": {
      "image/png": "[encoded data removed]",
      "text/plain": [
       "<Figure size 504x288 with 1 Axes>"
      ]
     },
     "metadata": {
      "needs_background": "light"
     },
     "output_type": "display_data"
    },
    {
     "data": {
      "image/png": "[encoded data removed]",
      "text/plain": [
       "<Figure size 504x288 with 1 Axes>"
      ]
     },
     "metadata": {
      "needs_background": "light"
     },
     "output_type": "display_data"
    }
   ],
   "source": [
    "for col in candidates:\n",
    "    plt.figure(); plt.hist(df[col].dropna(), bins='auto'); plt.title(f\"BEFORE: {col}\"); plt.xlabel(col); plt.ylabel(\"Frequency\"); plt.show()\n",
    "    plt.figure(); plt.hist(df_wins[col].dropna(), bins='auto'); plt.title(f\"AFTER (Winsorized): {col}\"); plt.xlabel(col); plt.ylabel(\"Frequency\"); plt.show()"
   ]
  },
  {
   "cell_type": "markdown",
   "id": "6c13f1a5",
   "metadata": {},
   "source": [
    "## 6. BEFORE vs AFTER — Boxplots"
   ]
  },
  {
   "cell_type": "code",
   "execution_count": 17,
   "id": "52d6e2ba",
   "metadata": {},
   "outputs": [
    {
     "data": {
      "image/png": "[encoded data removed]",
      "text/plain": [
       "<Figure size 504x288 with 1 Axes>"
      ]
     },
     "metadata": {
      "needs_background": "light"
     },
     "output_type": "display_data"
    },
    {
     "data": {
      "image/png": "[encoded data removed]",
      "text/plain": [
       "<Figure size 504x288 with 1 Axes>"
      ]
     },
     "metadata": {
      "needs_background": "light"
     },
     "output_type": "display_data"
    },
    {
     "data": {
      "image/png": "[encoded data removed]",
      "text/plain": [
       "<Figure size 504x288 with 1 Axes>"
      ]
     },
     "metadata": {
      "needs_background": "light"
     },
     "output_type": "display_data"
    },
    {
     "data": {
      "image/png": "[encoded data removed]",
      "text/plain": [
       "<Figure size 504x288 with 1 Axes>"
      ]
     },
     "metadata": {
      "needs_background": "light"
     },
     "output_type": "display_data"
    },
    {
     "data": {
      "image/png": "[encoded data removed]",
      "text/plain": [
       "<Figure size 504x288 with 1 Axes>"
      ]
     },
     "metadata": {
      "needs_background": "light"
     },
     "output_type": "display_data"
    },
    {
     "data": {
      "image/png": "[encoded data removed]",
      "text/plain": [
       "<Figure size 504x288 with 1 Axes>"
      ]
     },
     "metadata": {
      "needs_background": "light"
     },
     "output_type": "display_data"
    },
    {
     "data": {
      "image/png": "[encoded data removed]",
      "text/plain": [
       "<Figure size 504x288 with 1 Axes>"
      ]
     },
     "metadata": {
      "needs_background": "light"
     },
     "output_type": "display_data"
    },
    {
     "data": {
      "image/png": "[encoded data removed]",
      "text/plain": [
       "<Figure size 504x288 with 1 Axes>"
      ]
     },
     "metadata": {
      "needs_background": "light"
     },
     "output_type": "display_data"
    },
    {
     "data": {
      "image/png": "[encoded data removed]",
      "text/plain": [
       "<Figure size 504x288 with 1 Axes>"
      ]
     },
     "metadata": {
      "needs_background": "light"
     },
     "output_type": "display_data"
    },
    {
     "data": {
      "image/png": "[encoded data removed]",
      "text/plain": [
       "<Figure size 504x288 with 1 Axes>"
      ]
     },
     "metadata": {
      "needs_background": "light"
     },
     "output_type": "display_data"
    }
   ],
   "source": [
    "for col in candidates:\n",
    "    plt.figure(); plt.boxplot([df[col].dropna()], labels=[f\"Before: {col}\"]); plt.title(f\"BEFORE: {col}\"); plt.show()\n",
    "    plt.figure(); plt.boxplot([df_wins[col].dropna()], labels=[f\"After: {col}\"]); plt.title(f\"AFTER (Winsorized): {col}\"); plt.show()"
   ]
  },
  {
   "cell_type": "markdown",
   "id": "1a320100",
   "metadata": {},
   "source": [
    "## 7. Numeric summary — mean/std BEFORE vs AFTER"
   ]
  },
  {
   "cell_type": "code",
   "execution_count": 18,
   "id": "8038165e",
   "metadata": {},
   "outputs": [
    {
     "data": {
      "text/html": [
       "<div>\n",
       "<style scoped>\n",
       "    .dataframe tbody tr th:only-of-type {\n",
       "        vertical-align: middle;\n",
       "    }\n",
       "\n",
       "    .dataframe tbody tr th {\n",
       "        vertical-align: top;\n",
       "    }\n",
       "\n",
       "    .dataframe thead th {\n",
       "        text-align: right;\n",
       "    }\n",
       "</style>\n",
       "<table border=\"1\" class=\"dataframe\">\n",
       "  <thead>\n",
       "    <tr style=\"text-align: right;\">\n",
       "      <th></th>\n",
       "      <th>variable</th>\n",
       "      <th>mean_before</th>\n",
       "      <th>std_before</th>\n",
       "      <th>mean_after</th>\n",
       "      <th>std_after</th>\n",
       "    </tr>\n",
       "  </thead>\n",
       "  <tbody>\n",
       "    <tr>\n",
       "      <th>0</th>\n",
       "      <td>Anxiety_Score</td>\n",
       "      <td>10.470000</td>\n",
       "      <td>5.911138</td>\n",
       "      <td>10.425833</td>\n",
       "      <td>5.843054</td>\n",
       "    </tr>\n",
       "    <tr>\n",
       "      <th>1</th>\n",
       "      <td>Depression_Score</td>\n",
       "      <td>10.674167</td>\n",
       "      <td>5.632889</td>\n",
       "      <td>10.672500</td>\n",
       "      <td>5.478923</td>\n",
       "    </tr>\n",
       "    <tr>\n",
       "      <th>2</th>\n",
       "      <td>Stress_Level</td>\n",
       "      <td>5.000833</td>\n",
       "      <td>2.538281</td>\n",
       "      <td>5.000833</td>\n",
       "      <td>2.538281</td>\n",
       "    </tr>\n",
       "    <tr>\n",
       "      <th>3</th>\n",
       "      <td>Sleep_Hours</td>\n",
       "      <td>6.469000</td>\n",
       "      <td>1.529550</td>\n",
       "      <td>6.468333</td>\n",
       "      <td>1.409875</td>\n",
       "    </tr>\n",
       "    <tr>\n",
       "      <th>4</th>\n",
       "      <td>Social_Support_Score</td>\n",
       "      <td>5.055000</td>\n",
       "      <td>2.652893</td>\n",
       "      <td>5.055000</td>\n",
       "      <td>2.652893</td>\n",
       "    </tr>\n",
       "  </tbody>\n",
       "</table>\n",
       "</div>"
      ],
      "text/plain": [
       "               variable  mean_before  std_before  mean_after  std_after\n",
       "0         Anxiety_Score    10.470000    5.911138   10.425833   5.843054\n",
       "1      Depression_Score    10.674167    5.632889   10.672500   5.478923\n",
       "2          Stress_Level     5.000833    2.538281    5.000833   2.538281\n",
       "3           Sleep_Hours     6.469000    1.529550    6.468333   1.409875\n",
       "4  Social_Support_Score     5.055000    2.652893    5.055000   2.652893"
      ]
     },
     "execution_count": 18,
     "metadata": {},
     "output_type": "execute_result"
    }
   ],
   "source": [
    "summary_rows = []\n",
    "for col in candidates:\n",
    "    summary_rows.append({\n",
    "        \"variable\": col,\n",
    "        \"mean_before\": float(np.nanmean(df[col])),\n",
    "        \"std_before\": float(np.nanstd(df[col], ddof=1)),\n",
    "        \"mean_after\": float(np.nanmean(df_wins[col])),\n",
    "        \"std_after\": float(np.nanstd(df_wins[col], ddof=1)),\n",
    "    })\n",
    "summary_df = pd.DataFrame(summary_rows)\n",
    "summary_df"
   ]
  },
  {
   "cell_type": "markdown",
   "id": "1527733f",
   "metadata": {},
   "source": [
    "## 8. Notes\n",
    "- Winsorization clips tails to chosen quantiles; adjust (e.g., 1–99%) when extremes are very severe.\n",
    "- Always report thresholds and variables transformed.\n",
    "- Compare downstream model results before vs after."
   ]
  }
 ],
 "metadata": {
  "kernelspec": {
   "display_name": "\"Python/Mu (mu_venv-38-20241011-211338)\"",
   "language": "python",
   "name": "mu_venv-38-20241011-211338"
  },
  "language_info": {
   "codemirror_mode": {
    "name": "ipython",
    "version": 3
   },
   "file_extension": ".py",
   "mimetype": "text/x-python",
   "name": "python",
   "nbconvert_exporter": "python",
   "pygments_lexer": "ipython3",
   "version": "3.8.12"
  }
 },
 "nbformat": 4,
 "nbformat_minor": 5
}
